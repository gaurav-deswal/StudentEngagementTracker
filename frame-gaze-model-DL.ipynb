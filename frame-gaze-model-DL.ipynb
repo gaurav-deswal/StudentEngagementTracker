{
 "cells": [
  {
   "cell_type": "code",
   "execution_count": 1,
   "metadata": {},
   "outputs": [],
   "source": [
    "import pandas as pd\n",
    "import numpy as np\n",
    "import torch\n",
    "from torch.utils.data import Dataset\n",
    "import os\n",
    "from PIL import Image\n",
    "from tqdm import tqdm"
   ]
  },
  {
   "cell_type": "code",
   "execution_count": 2,
   "metadata": {},
   "outputs": [
    {
     "name": "stderr",
     "output_type": "stream",
     "text": [
      "c:\\Users\\Manvendra Nema\\anaconda3\\envs\\vercil\\Lib\\site-packages\\torchvision\\io\\image.py:13: UserWarning: Failed to load image Python extension: '[WinError 127] The specified procedure could not be found'If you don't plan on using image functionality from `torchvision.io`, you can ignore this warning. Otherwise, there might be something wrong with your environment. Did you have `libjpeg` or `libpng` installed before building `torchvision` from source?\n",
      "  warn(\n"
     ]
    }
   ],
   "source": [
    "from torch.utils.data import Dataset\n",
    "from torchvision import transforms\n",
    "from PIL import Image\n",
    "import os\n",
    "import pandas as pd\n",
    "import numpy as np\n",
    "\n",
    "class SimpleDataset(Dataset):\n",
    "    def __init__(self, addr, img_addr, transform=None):\n",
    "        self.file_name = sorted(os.listdir(addr))\n",
    "        self.img_addr = img_addr\n",
    "        self.addr = addr\n",
    "        self.transform = transform\n",
    "\n",
    "    def __len__(self):\n",
    "        return len(self.file_name)\n",
    "\n",
    "    def __getitem__(self, idx):\n",
    "        features = np.array(pd.read_csv(os.path.join(self.addr, self.file_name[idx], self.file_name[idx] + '.csv')).iloc[:, 5:])\n",
    "        img_path = os.path.join(self.img_addr, self.file_name[idx] + '.jpg')\n",
    "        img = Image.open(img_path).convert('RGB')\n",
    "\n",
    "        if self.transform:\n",
    "            img = self.transform(img)\n",
    "\n",
    "        targ = int(self.file_name[idx].split('_')[-1])  # Convert target to integer\n",
    "\n",
    "        return torch.tensor(features).squeeze(0).float(), img, targ\n",
    "\n",
    "# Transformation for images to resize and normalize for ResNet18\n",
    "image_transform = transforms.Compose([\n",
    "    transforms.Resize((224, 224)),  # Resize image to fit ResNet18 input size\n",
    "    transforms.ToTensor(),  # Convert image to tensor\n",
    "    transforms.Normalize(mean=[0.485, 0.456, 0.406], std=[0.229, 0.224, 0.225])  # Normalize for ResNet18\n",
    "])\n",
    "\n",
    "# Example usage:\n",
    "# dataset = SimpleDataset(addr='path_to_csv_files', img_addr='path_to_images', transform=image_transform)\n"
   ]
  },
  {
   "cell_type": "code",
   "execution_count": 3,
   "metadata": {},
   "outputs": [],
   "source": [
    "addr =    r\"F:\\Frames\\extracted\\Train\"\n",
    "img_addr = r\"F:\\Frames\\new_dataset\\Train_Frames\\Train_Frames\"\n",
    "train = SimpleDataset(addr,img_addr, transform=image_transform)"
   ]
  },
  {
   "cell_type": "code",
   "execution_count": 4,
   "metadata": {},
   "outputs": [],
   "source": [
    "addr =    r\"F:\\Frames\\extracted\\Test\"\n",
    "img_addr = r\"F:\\Frames\\new_dataset\\Test_Frames\\Test_Frames\"\n",
    "test = SimpleDataset(addr,img_addr,transform=image_transform)"
   ]
  },
  {
   "cell_type": "code",
   "execution_count": 5,
   "metadata": {},
   "outputs": [],
   "source": [
    "\n",
    "addr =    r\"F:\\Frames\\extracted\\Val\"\n",
    "img_addr = r\"F:\\Frames\\new_dataset\\Validation_Frames\\Validation_Frames\"\n",
    "val = SimpleDataset(addr,img_addr, transform=image_transform)"
   ]
  },
  {
   "cell_type": "code",
   "execution_count": 6,
   "metadata": {},
   "outputs": [],
   "source": [
    "from torch.utils.data import DataLoader\n",
    "\n",
    "batch_size = 64  # You can adjust this according to your system's memory capacity\n",
    "\n",
    "# Create data loaders\n",
    "train_loader = DataLoader(train, batch_size=batch_size, shuffle=True)\n",
    "test_loader = DataLoader(test, batch_size=batch_size, shuffle=False)\n",
    "val_loader = DataLoader(val, batch_size=batch_size, shuffle=False)"
   ]
  },
  {
   "cell_type": "code",
   "execution_count": 7,
   "metadata": {},
   "outputs": [
    {
     "name": "stderr",
     "output_type": "stream",
     "text": [
      "c:\\Users\\Manvendra Nema\\anaconda3\\envs\\vercil\\Lib\\site-packages\\torchvision\\models\\_utils.py:208: UserWarning: The parameter 'pretrained' is deprecated since 0.13 and may be removed in the future, please use 'weights' instead.\n",
      "  warnings.warn(\n",
      "c:\\Users\\Manvendra Nema\\anaconda3\\envs\\vercil\\Lib\\site-packages\\torchvision\\models\\_utils.py:223: UserWarning: Arguments other than a weight enum or `None` for 'weights' are deprecated since 0.13 and may be removed in the future. The current behavior is equivalent to passing `weights=ResNet18_Weights.IMAGENET1K_V1`. You can also use `weights=ResNet18_Weights.DEFAULT` to get the most up-to-date weights.\n",
      "  warnings.warn(msg)\n"
     ]
    }
   ],
   "source": [
    "import torch.nn.functional as F\n",
    "import torchvision.models as models\n",
    "import torch.nn as nn\n",
    "class MyModel(nn.Module):\n",
    "    def __init__(self, num_classes):\n",
    "        super(MyModel, self).__init__()\n",
    "        # Load pre-trained ResNet18 model\n",
    "        self.resnet = models.resnet18(pretrained=True)\n",
    "        # Change the output layer to match the number of classes in your dataset\n",
    "        num_features = self.resnet.fc.in_features\n",
    "        self.resnet.fc = nn.Linear(num_features, num_classes)\n",
    "\n",
    "        # Define additional fully connected layers\n",
    "        self.fc1 = nn.Linear(713, 32)  # Adding 714 for additional features\n",
    "        self.fc2 = nn.Linear(32, 8)\n",
    "        self.fc3 = nn.Linear(8, num_classes)\n",
    "\n",
    "    def forward(self, features, images):\n",
    "        # Extract features from images using ResNet18\n",
    "        img_features = self.resnet(images)\n",
    "        # print(\"img_features\",img_features.shape)\n",
    "        # print(\"features\",features.shape)\n",
    "        # Concatenate image features with additional features\n",
    "        combined_features = torch.cat((img_features, features), dim=1)\n",
    "\n",
    "        # Pass through additional fully connected layers\n",
    "        x = F.relu(self.fc1(combined_features))\n",
    "        x = F.relu(self.fc2(x))\n",
    "        x = self.fc3(x)\n",
    "        return x\n",
    "\n",
    "# Example usage:\n",
    "# Define the number of classes in your dataset\n",
    "num_classes = 4  # Example value, replace with the actual number of classes\n",
    "model = MyModel(num_classes)\n"
   ]
  },
  {
   "cell_type": "code",
   "execution_count": 9,
   "metadata": {},
   "outputs": [
    {
     "name": "stderr",
     "output_type": "stream",
     "text": [
      "Epoch 1/6, Train: 100%|██████████| 1236/1236 [38:48<00:00,  1.88s/it, loss=0.92] \n",
      "Epoch 1/6, Validation: 100%|██████████| 269/269 [07:01<00:00,  1.57s/it, loss=1.11] \n"
     ]
    },
    {
     "name": "stdout",
     "output_type": "stream",
     "text": [
      "Epoch 1/6, Train Loss: 1.1429, Train Accuracy: 45.08%, Validation Loss: 1.0399, Validation Accuracy: 36.34%\n"
     ]
    },
    {
     "name": "stderr",
     "output_type": "stream",
     "text": [
      "Epoch 2/6, Train: 100%|██████████| 1236/1236 [36:12<00:00,  1.76s/it, loss=0.774] \n",
      "Epoch 2/6, Validation: 100%|██████████| 269/269 [06:29<00:00,  1.45s/it, loss=1.12] \n"
     ]
    },
    {
     "name": "stdout",
     "output_type": "stream",
     "text": [
      "Epoch 2/6, Train Loss: 0.8931, Train Accuracy: 50.29%, Validation Loss: 1.0232, Validation Accuracy: 53.02%\n"
     ]
    },
    {
     "name": "stderr",
     "output_type": "stream",
     "text": [
      "Epoch 3/6, Train: 100%|██████████| 1236/1236 [31:16<00:00,  1.52s/it, loss=0.852]\n",
      "Epoch 3/6, Validation: 100%|██████████| 269/269 [06:22<00:00,  1.42s/it, loss=1.12] \n"
     ]
    },
    {
     "name": "stdout",
     "output_type": "stream",
     "text": [
      "Epoch 3/6, Train Loss: 0.8676, Train Accuracy: 50.52%, Validation Loss: 1.0227, Validation Accuracy: 53.02%\n"
     ]
    },
    {
     "name": "stderr",
     "output_type": "stream",
     "text": [
      "Epoch 4/6, Train: 100%|██████████| 1236/1236 [31:02<00:00,  1.51s/it, loss=0.965]\n",
      "Epoch 4/6, Validation: 100%|██████████| 269/269 [06:20<00:00,  1.41s/it, loss=1.13] \n"
     ]
    },
    {
     "name": "stdout",
     "output_type": "stream",
     "text": [
      "Epoch 4/6, Train Loss: 0.8609, Train Accuracy: 50.52%, Validation Loss: 1.0233, Validation Accuracy: 53.02%\n"
     ]
    },
    {
     "name": "stderr",
     "output_type": "stream",
     "text": [
      "Epoch 5/6, Train: 100%|██████████| 1236/1236 [31:09<00:00,  1.51s/it, loss=0.926]\n",
      "Epoch 5/6, Validation: 100%|██████████| 269/269 [06:20<00:00,  1.41s/it, loss=1.13] \n"
     ]
    },
    {
     "name": "stdout",
     "output_type": "stream",
     "text": [
      "Epoch 5/6, Train Loss: 0.8584, Train Accuracy: 50.52%, Validation Loss: 1.0234, Validation Accuracy: 53.02%\n"
     ]
    },
    {
     "name": "stderr",
     "output_type": "stream",
     "text": [
      "Epoch 6/6, Train: 100%|██████████| 1236/1236 [30:59<00:00,  1.50s/it, loss=0.908]\n",
      "Epoch 6/6, Validation: 100%|██████████| 269/269 [06:18<00:00,  1.41s/it, loss=1.13] "
     ]
    },
    {
     "name": "stdout",
     "output_type": "stream",
     "text": [
      "Epoch 6/6, Train Loss: 0.8575, Train Accuracy: 50.52%, Validation Loss: 1.0243, Validation Accuracy: 53.02%\n"
     ]
    },
    {
     "name": "stderr",
     "output_type": "stream",
     "text": [
      "\n"
     ]
    }
   ],
   "source": [
    "import torch\n",
    "import torch.nn as nn\n",
    "import torch.optim as optim\n",
    "from tqdm import tqdm\n",
    "\n",
    "# Move model to GPU if available\n",
    "device = torch.device(\"cuda\" if torch.cuda.is_available() else \"cpu\")\n",
    "model.to(device)\n",
    "\n",
    "# Define your model, optimizer, loss function, and other parameters\n",
    "num_classes = 4  # Example value, replace with the actual number of classes\n",
    "\n",
    "model = model.to(device)\n",
    "criterion = nn.CrossEntropyLoss()\n",
    "optimizer = optim.AdamW(model.parameters(), lr=0.001)\n",
    "\n",
    "# Define the number of epochs\n",
    "num_epochs = 6\n",
    "\n",
    "# Training loop\n",
    "for epoch in range(num_epochs):\n",
    "    # Training\n",
    "    model.train()\n",
    "    running_loss = 0.0\n",
    "    correct = 0\n",
    "    total = 0\n",
    "    \n",
    "    # Wrap train_loader with tqdm\n",
    "    train_loader_iter = tqdm(train_loader, desc=f'Epoch {epoch+1}/{num_epochs}, Train')\n",
    "    \n",
    "    for features, images, labels in train_loader_iter:\n",
    "        features, images, labels = features.to(device), images.to(device), labels.to(device)  # Move to GPU\n",
    "        optimizer.zero_grad()\n",
    "        # Forward pass\n",
    "        outputs = model(features, images)\n",
    "        # Calculate loss\n",
    "        loss = criterion(outputs, labels)\n",
    "        # Backward pass\n",
    "        loss.backward()\n",
    "        # Optimize\n",
    "        optimizer.step()\n",
    "        \n",
    "        # Update statistics\n",
    "        running_loss += loss.item() * features.size(0)\n",
    "        _, predicted = torch.max(outputs, 1)\n",
    "        total += labels.size(0)\n",
    "        correct += (predicted == labels).sum().item()\n",
    "        \n",
    "        # Update tqdm description\n",
    "        train_loader_iter.set_postfix(loss=loss.item())\n",
    "    \n",
    "    train_loss = running_loss / len(train_loader.dataset)\n",
    "    train_accuracy = 100 * correct / total\n",
    "    \n",
    "    # Validation\n",
    "    model.eval()\n",
    "    running_loss = 0.0\n",
    "    correct = 0\n",
    "    total = 0\n",
    "    \n",
    "    # Wrap val_loader with tqdm\n",
    "    val_loader_iter = tqdm(val_loader, desc=f'Epoch {epoch+1}/{num_epochs}, Validation')\n",
    "    \n",
    "    with torch.no_grad():\n",
    "        for features, images, labels in val_loader_iter:\n",
    "            features, images, labels = features.to(device), images.to(device), labels.to(device)  # Move to GPU\n",
    "            # Forward pass\n",
    "            outputs = model(features, images)\n",
    "            # Calculate loss\n",
    "            loss = criterion(outputs, labels)\n",
    "            \n",
    "            # Update statistics\n",
    "            running_loss += loss.item() * features.size(0)\n",
    "            _, predicted = torch.max(outputs, 1)\n",
    "            total += labels.size(0)\n",
    "            correct += (predicted == labels).sum().item()\n",
    "            \n",
    "            # Update tqdm description\n",
    "            val_loader_iter.set_postfix(loss=loss.item())\n",
    "    \n",
    "    val_loss = running_loss / len(val_loader.dataset)\n",
    "    val_accuracy = 100 * correct / total\n",
    "    \n",
    "    print(f'Epoch {epoch+1}/{num_epochs}, '\n",
    "          f'Train Loss: {train_loss:.4f}, Train Accuracy: {train_accuracy:.2f}%, '\n",
    "          f'Validation Loss: {val_loss:.4f}, Validation Accuracy: {val_accuracy:.2f}%')\n"
   ]
  },
  {
   "cell_type": "code",
   "execution_count": 12,
   "metadata": {},
   "outputs": [],
   "source": [
    "# # Define the path where the model is saved\n",
    "# model_path = r\"F:\\RESTCN_CODE\\frame-feature.pth\"\n",
    "\n",
    "\n",
    "# # Save the model\n",
    "# torch.save(model.state_dict(), model_path)\n",
    "# Define your model architecture\n",
    "# Example:\n",
    "# model = YourModelClass()\n",
    "\n",
    "# Load the saved model parameters\n",
    "# model.load_state_dict(torch.load(model_path))\n",
    "\n",
    "# It's important to call model.eval() after loading the model\n",
    "# if you're going to use it for inference\n",
    "# model.eval()\n"
   ]
  },
  {
   "cell_type": "code",
   "execution_count": 13,
   "metadata": {},
   "outputs": [
    {
     "name": "stderr",
     "output_type": "stream",
     "text": [
      "Testing: 100%|██████████| 279/279 [06:33<00:00,  1.41s/it]"
     ]
    },
    {
     "name": "stdout",
     "output_type": "stream",
     "text": [
      "Test Accuracy: 0.49\n",
      "Test F1 Score: 0.17\n",
      "Confusion Matrix:\n",
      "[[   0    0   40    0]\n",
      " [   0    0  840    0]\n",
      " [   0    0 8820    0]\n",
      " [   0    0 8140    0]]\n"
     ]
    },
    {
     "name": "stderr",
     "output_type": "stream",
     "text": [
      "\n"
     ]
    },
    {
     "data": {
      "image/png": "[encoded data removed]",
      "text/plain": [
       "<Figure size 800x600 with 1 Axes>"
      ]
     },
     "metadata": {},
     "output_type": "display_data"
    }
   ],
   "source": [
    "from sklearn.metrics import accuracy_score, f1_score, confusion_matrix\n",
    "import seaborn as sns\n",
    "import matplotlib.pyplot as plt\n",
    "\n",
    "# Testing loop\n",
    "model.eval()\n",
    "predictions = []\n",
    "true_labels = []\n",
    "\n",
    "# Wrap test_loader with tqdm\n",
    "test_loader_iter = tqdm(test_loader, desc=f'Testing')\n",
    "\n",
    "with torch.no_grad():\n",
    "    for features, images, labels in test_loader_iter:\n",
    "        features, images, labels = features.to(device), images.to(device), labels.to(device)  # Move to GPU\n",
    "        # Forward pass\n",
    "        outputs = model(features, images)\n",
    "        # Get predicted labels\n",
    "        _, predicted = torch.max(outputs, 1)\n",
    "        # Collect predictions and true labels\n",
    "        predictions.extend(predicted.cpu().numpy())\n",
    "        true_labels.extend(labels.cpu().numpy())\n",
    "\n",
    "# Calculate accuracy\n",
    "test_accuracy = accuracy_score(true_labels, predictions)\n",
    "# Calculate F1 score\n",
    "test_f1_score = f1_score(true_labels, predictions, average='macro')\n",
    "# Generate confusion matrix\n",
    "conf_matrix = confusion_matrix(true_labels, predictions)\n",
    "\n",
    "print(f'Test Accuracy: {test_accuracy:.2f}')\n",
    "print(f'Test F1 Score: {test_f1_score:.2f}')\n",
    "print('Confusion Matrix:')\n",
    "print(conf_matrix)\n",
    "\n",
    "# Plot confusion matrix heatmap\n",
    "plt.figure(figsize=(8, 6))\n",
    "sns.heatmap(conf_matrix, annot=True, fmt='d', cmap='Blues', cbar=False)\n",
    "plt.xlabel('Predicted labels')\n",
    "plt.ylabel('True labels')\n",
    "plt.title('Confusion Matrix')\n",
    "plt.show()\n"
   ]
  }
 ],
 "metadata": {
  "kernelspec": {
   "display_name": "vercil",
   "language": "python",
   "name": "python3"
  },
  "language_info": {
   "codemirror_mode": {
    "name": "ipython",
    "version": 3
   },
   "file_extension": ".py",
   "mimetype": "text/x-python",
   "name": "python",
   "nbconvert_exporter": "python",
   "pygments_lexer": "ipython3",
   "version": "3.11.8"
  }
 },
 "nbformat": 4,
 "nbformat_minor": 2
}
